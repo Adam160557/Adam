{
 "cells": [
  {
   "cell_type": "code",
   "execution_count": 1,
   "id": "da66a245",
   "metadata": {},
   "outputs": [
    {
     "ename": "SyntaxError",
     "evalue": "invalid character '○' (U+25CB) (1433785670.py, line 1)",
     "output_type": "error",
     "traceback": [
      "\u001b[0;36m  Input \u001b[0;32mIn [1]\u001b[0;36m\u001b[0m\n\u001b[0;31m    str 丙○○共同連續意圖營利聚眾賭博，處有期徒刑陸月，併科罰金伍拾萬元，罰金如易\u001b[0m\n\u001b[0m         ^\u001b[0m\n\u001b[0;31mSyntaxError\u001b[0m\u001b[0;31m:\u001b[0m invalid character '○' (U+25CB)\n"
     ]
    }
   ],
   "source": [
    "str 丙○○共同連續意圖營利聚眾賭博，處有期徒刑陸月，併科罰金伍拾萬元，罰金如易\n",
    "服勞役以罰金總額與陸個月之日數比例折算之；又共同意圖為自己不法之所有，以恐\n",
    "嚇使人將本人之物交付，處有期徒刑貳年。應執行有期徒刑貳年肆月，併科併科罰金\n",
    "伍拾萬元，罰金如易服勞役以罰金總額與陸個月之日數比例折算之。\n",
    "庚○○共同連續意圖營利聚眾賭博，處有期徒刑陸月，併科罰金伍拾萬元，罰金如易\n",
    "服勞役以罰金總額與陸個月之日數比例折算之；又共同連續意圖為自己不法之所有，\n",
    "以恐嚇使人將本人之物交付，處有期徒刑貳年；又連續以加害生命、身體之事，恐嚇\n",
    "他人致生危害於安全，處有期徒刑壹年；又共同連續侵占漂流物，處罰金伍仟元。應\n",
    "執行有期徒刑參年肆月，併科罰金伍拾萬伍仟元，罰金如易服勞役以罰金總額與陸個\n",
    "月之日數比例折算之。"
   ]
  },
  {
   "cell_type": "code",
   "execution_count": 3,
   "id": "7703e11d",
   "metadata": {},
   "outputs": [
    {
     "ename": "SyntaxError",
     "evalue": "invalid character '○' (U+25CB) (1676001019.py, line 1)",
     "output_type": "error",
     "traceback": [
      "\u001b[0;36m  Input \u001b[0;32mIn [3]\u001b[0;36m\u001b[0m\n\u001b[0;31m    ○共同連續意圖營利聚眾賭博，處有期徒刑陸月，併科罰金伍拾萬元，罰金如易\u001b[0m\n\u001b[0m    ^\u001b[0m\n\u001b[0;31mSyntaxError\u001b[0m\u001b[0;31m:\u001b[0m invalid character '○' (U+25CB)\n"
     ]
    }
   ],
   "source": [
    "○共同連續意圖營利聚眾賭博，處有期徒刑陸月，併科罰金伍拾萬元，罰金如易\n",
    "服勞役以罰金總額與陸個月之日數比例折算之；又共同意圖為自己不法之所有，以恐\n",
    "嚇使人將本人之物交付，處有期徒刑貳年。應執行有期徒刑貳年肆月，併科併科罰金\n",
    "伍拾萬元，罰金如易服勞役以罰金總額與陸個月之日數比例折算之。\n",
    "庚○○共同連續意圖營利聚眾賭博，處有期徒刑陸月，併科罰金伍拾萬元，罰金如易\n",
    "服勞役以罰金總額與陸個月之日數比例折算之；又共同連續意圖為自己不法之所有，\n",
    "以恐嚇使人將本人之物交付，處有期徒刑貳年；又連續以加害生命、身體之事，恐嚇\n",
    "他人致生危害於安全，處有期徒刑壹年；又共同連續侵占漂流物，處罰金伍仟元。應\n",
    "執行有期徒刑參年肆月，併科罰金伍拾萬伍仟元，罰金如易服勞役以罰金總額與陸個\n",
    "月之日數比例折算之。=str"
   ]
  },
  {
   "cell_type": "code",
   "execution_count": 6,
   "id": "63bd167c",
   "metadata": {},
   "outputs": [],
   "source": [
    "str=\"○共同連續意圖營利聚眾賭博，處有期徒刑陸月，併科罰金伍拾萬元，罰金如易服勞役以罰金總額與陸個月之日數比例折算之；又共同意圖為自己不法之所有，以恐嚇使人將本人之物交付，處有期徒刑貳年。應執行有期徒刑貳年肆月，併科併科罰金伍拾萬元，罰金如易服勞役以罰金總額與陸個月之日數比例折算之。庚○○共同連續意圖營利聚眾賭博，處有期徒刑陸月，併科罰金伍拾萬元，罰金如易服勞役以罰金總額與陸個月之日數比例折算之；又共同連續意圖為自己不法之所有，以恐嚇使人將本人之物交付，處有期徒刑貳年；又連續以加害生命、身體之事，恐嚇他人致生危害於安全，處有期徒刑壹年；又共同連續侵占漂流物，處罰金伍仟元。應執行有期徒刑參年肆月，併科罰金伍拾萬伍仟元，罰金如易服勞役以罰金總額與陸個月之日數比例折算之。\""
   ]
  },
  {
   "cell_type": "code",
   "execution_count": 7,
   "id": "4c17ab13",
   "metadata": {},
   "outputs": [
    {
     "name": "stdout",
     "output_type": "stream",
     "text": [
      "○共同連續意圖營利聚眾賭博，處有期徒刑陸月，併科罰金伍拾萬元，罰金如易服勞役以罰金總額與陸個月之日數比例折算之；又共同意圖為自己不法之所有，以恐嚇使人將本人之物交付，處有期徒刑貳年。應執行有期徒刑貳年肆月，併科併科罰金伍拾萬元，罰金如易服勞役以罰金總額與陸個月之日數比例折算之。庚○○共同連續意圖營利聚眾賭博，處有期徒刑陸月，併科罰金伍拾萬元，罰金如易服勞役以罰金總額與陸個月之日數比例折算之；又共同連續意圖為自己不法之所有，以恐嚇使人將本人之物交付，處有期徒刑貳年；又連續以加害生命、身體之事，恐嚇他人致生危害於安全，處有期徒刑壹年；又共同連續侵占漂流物，處罰金伍仟元。應執行有期徒刑參年肆月，併科罰金伍拾萬伍仟元，罰金如易服勞役以罰金總額與陸個月之日數比例折算之。\n"
     ]
    }
   ],
   "source": [
    "print(str)"
   ]
  },
  {
   "cell_type": "code",
   "execution_count": 11,
   "id": "d6a66831",
   "metadata": {},
   "outputs": [
    {
     "ename": "SyntaxError",
     "evalue": "invalid syntax (4031925708.py, line 4)",
     "output_type": "error",
     "traceback": [
      "\u001b[0;36m  Input \u001b[0;32mIn [11]\u001b[0;36m\u001b[0m\n\u001b[0;31m    str=\"被告須賠償\",int (money*rate1),\"原告須賠償\"int(money*rate2)\u001b[0m\n\u001b[0m                                         ^\u001b[0m\n\u001b[0;31mSyntaxError\u001b[0m\u001b[0;31m:\u001b[0m invalid syntax\n"
     ]
    }
   ],
   "source": [
    "money=25688\n",
    "rate1=0.3\n",
    "rate2=0.7\n",
    "str=\"被告須賠償\",int (money*rate1),\"原告須賠償\"int(money*rate2)\n",
    "print(str)"
   ]
  },
  {
   "cell_type": "code",
   "execution_count": 12,
   "id": "25b8b5a9",
   "metadata": {},
   "outputs": [
    {
     "name": "stdout",
     "output_type": "stream",
     "text": [
      "罰金\n",
      "原告 7706\n",
      "被告 17981\n"
     ]
    }
   ],
   "source": [
    "money=25688\n",
    "rate1=0.3\n",
    "rate2=0.7\n",
    "moneya=money*rate1\n",
    "moneyb=money*rate2\n",
    "print(\"罰金\")\n",
    "print(\"原告\",int(moneya))\n",
    "print(\"被告\",int(moneyb))\n"
   ]
  },
  {
   "cell_type": "code",
   "execution_count": 13,
   "id": "95244c7f",
   "metadata": {},
   "outputs": [
    {
     "name": "stdout",
     "output_type": "stream",
     "text": [
      "<class 'float'>\n"
     ]
    }
   ],
   "source": [
    "print(type(moneya))"
   ]
  },
  {
   "cell_type": "code",
   "execution_count": 14,
   "id": "d49dd3e4",
   "metadata": {},
   "outputs": [
    {
     "ename": "SyntaxError",
     "evalue": "invalid syntax (3186169006.py, line 2)",
     "output_type": "error",
     "traceback": [
      "\u001b[0;36m  Input \u001b[0;32mIn [14]\u001b[0;36m\u001b[0m\n\u001b[0;31m    for event in string_list\u001b[0m\n\u001b[0m                            ^\u001b[0m\n\u001b[0;31mSyntaxError\u001b[0m\u001b[0;31m:\u001b[0m invalid syntax\n"
     ]
    }
   ],
   "source": [
    "string_list=[\"有酒駕\",\"無酒駕\",\"有酒駕\",\"有酒駕\"]\n",
    "for event in string_list\n",
    "if (\"有酒駕\")\n",
    "print (\"true\")\n",
    "else\n",
    "print(\"false\")"
   ]
  },
  {
   "cell_type": "code",
   "execution_count": 18,
   "id": "11d37808",
   "metadata": {},
   "outputs": [
    {
     "ename": "IndentationError",
     "evalue": "expected an indented block (2115770147.py, line 5)",
     "output_type": "error",
     "traceback": [
      "\u001b[0;36m  Input \u001b[0;32mIn [18]\u001b[0;36m\u001b[0m\n\u001b[0;31m    print (\"true\")\u001b[0m\n\u001b[0m    ^\u001b[0m\n\u001b[0;31mIndentationError\u001b[0m\u001b[0;31m:\u001b[0m expected an indented block\n"
     ]
    }
   ],
   "source": [
    "String_list=[\"有酒駕\",\"無酒駕\",\"有酒駕\",\"有酒駕\"]\n",
    "for event in String_list:\n",
    "    \n",
    "    if event==\"有酒駕\":\n",
    "    print (\"true\")\n",
    "else:\n",
    "    print(\"false\")"
   ]
  },
  {
   "cell_type": "code",
   "execution_count": null,
   "id": "8cb2dc3d",
   "metadata": {},
   "outputs": [],
   "source": []
  },
  {
   "cell_type": "code",
   "execution_count": 23,
   "id": "a63bcbac",
   "metadata": {},
   "outputs": [
    {
     "ename": "IndentationError",
     "evalue": "expected an indented block (4123818030.py, line 5)",
     "output_type": "error",
     "traceback": [
      "\u001b[0;36m  Input \u001b[0;32mIn [23]\u001b[0;36m\u001b[0m\n\u001b[0;31m    print (\"True\")\u001b[0m\n\u001b[0m    ^\u001b[0m\n\u001b[0;31mIndentationError\u001b[0m\u001b[0;31m:\u001b[0m expected an indented block\n"
     ]
    }
   ],
   "source": [
    "String_list=[\"有酒駕\",\"無酒駕\",\"有酒駕\",\"有酒駕\"]\n",
    "for event in String_list:\n",
    "    \n",
    "    if event==\"有酒駕\":\n",
    "    print (\"True\")\n",
    "else:\n",
    "    print(\"False\")\n",
    "    "
   ]
  },
  {
   "cell_type": "code",
   "execution_count": 22,
   "id": "7654d40b",
   "metadata": {},
   "outputs": [
    {
     "name": "stdout",
     "output_type": "stream",
     "text": [
      "True\n",
      "False\n",
      "True\n",
      "True\n"
     ]
    }
   ],
   "source": [
    "String_list=[\"有酒駕\",\"無酒駕\",\"有酒駕\",\"有酒駕\"]\n",
    "for event in String_list:\n",
    "    \n",
    "    if event==\"有酒駕\":\n",
    "        print (\"True\")\n",
    "    else:\n",
    "        print(\"False\")\n",
    "    "
   ]
  },
  {
   "cell_type": "code",
   "execution_count": 24,
   "id": "409ca8aa",
   "metadata": {},
   "outputs": [
    {
     "name": "stdout",
     "output_type": "stream",
     "text": [
      "[True, False, True, True]\n"
     ]
    }
   ],
   "source": [
    "String_list=[\"有酒駕\",\"無酒駕\",\"有酒駕\",\"有酒駕\"]\n",
    "boolean_list=[ele==\"有酒駕\"for ele in String_list ]\n",
    "print(boolean_list)"
   ]
  },
  {
   "cell_type": "code",
   "execution_count": null,
   "id": "060cddee",
   "metadata": {},
   "outputs": [],
   "source": [
    "event=input(\"請輸入案件:\")\n",
    "\n",
    "if\n",
    "   event==\"被告闖紅燈\n",
    "    print(\"被吿賠100%\") \n",
    "    \n",
    "elif event==\"原告闖紅燈\"   \n",
    "    print(\"原告多被告少\") \n",
    "    \n",
    "elif event==\"被告原告皆闖紅燈\"   \n",
    "    print(\"原告50%被告50%\") \n",
    "    \n",
    "else  \n",
    "    print(\"請填入有效信息\") "
   ]
  },
  {
   "cell_type": "code",
   "execution_count": null,
   "id": "ba2e1e3d",
   "metadata": {},
   "outputs": [],
   "source": [
    "event=input(\"請輸入案件:\")\n",
    "\n",
    "if\n",
    "   event==\"被告闖紅燈\"\n",
    "    print(\"被吿賠100%\") \n",
    "    \n",
    "elif event==\"原告闖紅燈\"   \n",
    "    print(\"原告多被告少\") \n",
    "    \n",
    "elif event==\"被告原告皆闖紅燈\"   \n",
    "    print(\"原告50%被告50%\") \n",
    "    \n",
    "else  \n",
    "    print(\"請填入有效信息\") "
   ]
  },
  {
   "cell_type": "code",
   "execution_count": 7,
   "id": "1118488d",
   "metadata": {},
   "outputs": [
    {
     "name": "stdout",
     "output_type": "stream",
     "text": [
      "請輸入案件:C 9 \n",
      "請填入有效信息\n"
     ]
    }
   ],
   "source": [
    "\n",
    "event=input(\"請輸入案件:\")\n",
    "\n",
    "if event==\"被告闖紅燈\":\n",
    "    print(\"被吿賠100%\") \n",
    "    \n",
    "elif event==\"原告闖紅燈\"   :\n",
    "    print(\"原告多被告少\") \n",
    "    \n",
    "elif event==\"被告原告皆闖紅燈\"   :\n",
    "    print(\"原告50%被告50%\") \n",
    "    \n",
    "else  :\n",
    "    print(\"請填入有效信息\") "
   ]
  },
  {
   "cell_type": "code",
   "execution_count": 9,
   "id": "33b1fe8c",
   "metadata": {},
   "outputs": [
    {
     "name": "stdout",
     "output_type": "stream",
     "text": [
      "12608 元\n"
     ]
    }
   ],
   "source": [
    "money=11805\n",
    "rate=0.0005\n",
    "money1=150\n",
    "money2=300\n",
    "sum_money=money*(1+rate)**59+money1+money2\n",
    "print(int(sum_money),\"元\")"
   ]
  },
  {
   "cell_type": "code",
   "execution_count": null,
   "id": "8c4ec264",
   "metadata": {},
   "outputs": [],
   "source": []
  }
 ],
 "metadata": {
  "kernelspec": {
   "display_name": "Python 3 (ipykernel)",
   "language": "python",
   "name": "python3"
  },
  "language_info": {
   "codemirror_mode": {
    "name": "ipython",
    "version": 3
   },
   "file_extension": ".py",
   "mimetype": "text/x-python",
   "name": "python",
   "nbconvert_exporter": "python",
   "pygments_lexer": "ipython3",
   "version": "3.9.12"
  }
 },
 "nbformat": 4,
 "nbformat_minor": 5
}
