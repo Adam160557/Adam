{
 "cells": [
  {
   "cell_type": "code",
   "execution_count": null,
   "id": "276f6e07",
   "metadata": {},
   "outputs": [],
   "source": [
    "age={}\n",
    "guilty={}\n",
    "fine={}\n"
   ]
  },
  {
   "cell_type": "code",
   "execution_count": null,
   "id": "6552ca2a",
   "metadata": {},
   "outputs": [],
   "source": [
    "while True:\n",
    "    name=input()\n",
    "    print(\"your age\"+str(age[name]))\n",
    "    "
   ]
  }
 ],
 "metadata": {
  "kernelspec": {
   "display_name": "Python 3 (ipykernel)",
   "language": "python",
   "name": "python3"
  },
  "language_info": {
   "codemirror_mode": {
    "name": "ipython",
    "version": 3
   },
   "file_extension": ".py",
   "mimetype": "text/x-python",
   "name": "python",
   "nbconvert_exporter": "python",
   "pygments_lexer": "ipython3",
   "version": "3.9.12"
  }
 },
 "nbformat": 4,
 "nbformat_minor": 5
}
