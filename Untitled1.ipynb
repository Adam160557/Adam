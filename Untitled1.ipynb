{
 "cells": [
  {
   "cell_type": "code",
   "execution_count": 14,
   "id": "8f870edc",
   "metadata": {},
   "outputs": [],
   "source": [
    "import pandas as pd\n",
    "\n",
    "#讀取csv檔\n",
    "\n",
    "adams = pd.read_csv(\"adams favorvite overdrive .csv\")\n"
   ]
  },
  {
   "cell_type": "code",
   "execution_count": 15,
   "id": "1a0e9659",
   "metadata": {},
   "outputs": [
    {
     "name": "stdout",
     "output_type": "stream",
     "text": [
      "      pedal name gain level          type          factory\n",
      "0         apollo    low~mid        dumble       ravenstone\n",
      "1        moonset    low~mid  bluesbreaker       ravenstone\n",
      "2        jan ray    low~mid            ts          vemuram\n",
      "3  revival drive   low~high  bluesbreaker    origin effect\n",
      "4   klon centaur    low~mid          klon             klon\n",
      "5           ocd    mid~high      1970 dis         fulltone\n",
      "6        1981drv   mid~high    distortion  1981 inventions\n",
      "7   blues driver    low~mid  blues driver             boss\n",
      "8   king of tone    low~mid  bluesbreaker       analog man\n",
      "9     golden boy   low~high         multi          jackson\n"
     ]
    }
   ],
   "source": [
    "print(adams)\n",
    "#adam最喜歡的破音效果器"
   ]
  },
  {
   "cell_type": "code",
   "execution_count": 16,
   "id": "d60e5f72",
   "metadata": {},
   "outputs": [
    {
     "name": "stdout",
     "output_type": "stream",
     "text": [
      "      pedal name gain level          type        factory\n",
      "0         apollo    low~mid        dumble     ravenstone\n",
      "1          ts808        mid            ts         ibanez\n",
      "2        jan ray    low~mid            ts        vemuram\n",
      "3  revival drive   low~high  bluesbreaker  origin effect\n",
      "4   klon centaur    low~mid          klon           klon\n",
      "5      bb preamp    low~mid  bluesbreaker          xotic\n",
      "6  gladio preamp   low~high        dumble    cornerstone\n",
      "7   blues driver    low~mid  blues driver           boss\n",
      "8   king of tone    low~mid  bluesbreaker     analog man\n",
      "9    sweet honey   mid~high            ts  mad professor\n"
     ]
    }
   ],
   "source": [
    "hanks = pd.read_csv(\"hank favorvite overdrive .csv\")\n",
    "print(hanks)\n",
    "#hank最喜歡的效果器"
   ]
  },
  {
   "cell_type": "code",
   "execution_count": 18,
   "id": "99d7fb03",
   "metadata": {},
   "outputs": [
    {
     "data": {
      "text/plain": [
       "{'1981drv',\n",
       " 'apollo',\n",
       " 'blues driver',\n",
       " 'golden boy',\n",
       " 'jan ray',\n",
       " 'king of tone',\n",
       " 'klon centaur',\n",
       " 'moonset',\n",
       " 'ocd ',\n",
       " 'revival drive'}"
      ]
     },
     "execution_count": 18,
     "metadata": {},
     "output_type": "execute_result"
    }
   ],
   "source": [
    "#列出adam的效果器\n",
    "set_adams = set(adams[\"pedal name\" ])\n",
    "set_adams"
   ]
  },
  {
   "cell_type": "code",
   "execution_count": 23,
   "id": "599710af",
   "metadata": {},
   "outputs": [
    {
     "data": {
      "text/plain": [
       "{'apollo',\n",
       " 'bb preamp',\n",
       " 'blues driver',\n",
       " 'gladio preamp',\n",
       " 'jan ray',\n",
       " 'king of tone',\n",
       " 'klon centaur',\n",
       " 'revival drive',\n",
       " 'sweet honey',\n",
       " 'ts808'}"
      ]
     },
     "execution_count": 23,
     "metadata": {},
     "output_type": "execute_result"
    }
   ],
   "source": [
    "#列出hank的效果器\n",
    "set_hanks = set(hanks[\"pedal name\"])\n",
    "set_hanks"
   ]
  },
  {
   "cell_type": "code",
   "execution_count": 24,
   "id": "c721a9c2",
   "metadata": {},
   "outputs": [
    {
     "name": "stdout",
     "output_type": "stream",
     "text": [
      "{'jan ray', 'king of tone', 'blues driver', 'klon centaur', 'revival drive', 'apollo'}\n"
     ]
    }
   ],
   "source": [
    "print(set_adams&set_hanks)\n",
    "#交集"
   ]
  },
  {
   "cell_type": "code",
   "execution_count": 25,
   "id": "cbc69d5b",
   "metadata": {},
   "outputs": [
    {
     "name": "stdout",
     "output_type": "stream",
     "text": [
      "{'ocd ', 'golden boy', '1981drv', 'jan ray', 'bb preamp', 'gladio preamp', 'sweet honey', 'moonset', 'king of tone', 'blues driver', 'klon centaur', 'revival drive', 'apollo', 'ts808'}\n"
     ]
    }
   ],
   "source": [
    "print(set_adams|set_hanks)\n",
    "#聯集"
   ]
  },
  {
   "cell_type": "code",
   "execution_count": 27,
   "id": "1ae0beee",
   "metadata": {},
   "outputs": [
    {
     "name": "stdout",
     "output_type": "stream",
     "text": [
      "{'1981drv', 'moonset', 'ocd ', 'golden boy'}\n",
      "{'sweet honey', 'bb preamp', 'gladio preamp', 'ts808'}\n"
     ]
    }
   ],
   "source": [
    "print(set_adams-set_hanks)\n",
    "print(set_hanks-set_adams)\n",
    "#差集"
   ]
  },
  {
   "cell_type": "code",
   "execution_count": 28,
   "id": "ae82007d",
   "metadata": {},
   "outputs": [
    {
     "name": "stdout",
     "output_type": "stream",
     "text": [
      "{'ocd ', 'golden boy', 'sweet honey', '1981drv', 'moonset', 'bb preamp', 'gladio preamp', 'ts808'}\n"
     ]
    }
   ],
   "source": [
    "set_all=set_adams|set_hanks\n",
    "set_both=set_adams&set_hanks\n",
    "print(set_all-set_both)\n",
    "#對稱差集"
   ]
  }
 ],
 "metadata": {
  "kernelspec": {
   "display_name": "Python 3 (ipykernel)",
   "language": "python",
   "name": "python3"
  },
  "language_info": {
   "codemirror_mode": {
    "name": "ipython",
    "version": 3
   },
   "file_extension": ".py",
   "mimetype": "text/x-python",
   "name": "python",
   "nbconvert_exporter": "python",
   "pygments_lexer": "ipython3",
   "version": "3.9.12"
  }
 },
 "nbformat": 4,
 "nbformat_minor": 5
}
