{
 "cells": [
  {
   "cell_type": "code",
   "execution_count": 1,
   "id": "cb947a68",
   "metadata": {},
   "outputs": [],
   "source": [
    "import json\n",
    "adam=open('adams.json',encoding='utf8')"
   ]
  },
  {
   "cell_type": "code",
   "execution_count": 2,
   "id": "97fd90d6",
   "metadata": {},
   "outputs": [],
   "source": [
    "adamspedals = json.load(adam)"
   ]
  },
  {
   "cell_type": "code",
   "execution_count": 3,
   "id": "8c9b38b3",
   "metadata": {},
   "outputs": [
    {
     "name": "stdout",
     "output_type": "stream",
     "text": [
      "{'pedals': [{'name': 'apollo', 'gain': 'low~mid', 'factory': 'ravenstone'}, {'name': 'moonset', 'gain': 'low~mid', 'factory': 'ravenstone'}, {'name': 'jan ray', 'gain': 'low~mid', 'factory': 'vemuram'}, {'name': 'revival drive', 'gain': 'low~high', 'factory': 'origin effect'}, {'name': 'klon centaur', 'gain': 'low~mid', 'factory': 'klon'}], 'pedal price': [{'name': 'apollo', 'price': '6800'}, {'name': 'moonset', 'price': '6800'}, {'name': 'jan ray', 'price': '12000'}, {'name': 'revival drive', 'price': '15000'}, {'name': 'klon centaur', 'price': '100000'}]}\n"
     ]
    }
   ],
   "source": [
    "print(adamspedals)"
   ]
  },
  {
   "cell_type": "code",
   "execution_count": 4,
   "id": "072ee4c4",
   "metadata": {},
   "outputs": [
    {
     "data": {
      "text/plain": [
       "dict_items([('pedals', [{'name': 'apollo', 'gain': 'low~mid', 'factory': 'ravenstone'}, {'name': 'moonset', 'gain': 'low~mid', 'factory': 'ravenstone'}, {'name': 'jan ray', 'gain': 'low~mid', 'factory': 'vemuram'}, {'name': 'revival drive', 'gain': 'low~high', 'factory': 'origin effect'}, {'name': 'klon centaur', 'gain': 'low~mid', 'factory': 'klon'}]), ('pedal price', [{'name': 'apollo', 'price': '6800'}, {'name': 'moonset', 'price': '6800'}, {'name': 'jan ray', 'price': '12000'}, {'name': 'revival drive', 'price': '15000'}, {'name': 'klon centaur', 'price': '100000'}])])"
      ]
     },
     "execution_count": 4,
     "metadata": {},
     "output_type": "execute_result"
    }
   ],
   "source": [
    "adamspedals.items()"
   ]
  },
  {
   "cell_type": "code",
   "execution_count": 5,
   "id": "7a47c259",
   "metadata": {},
   "outputs": [],
   "source": [
    "pedals=adamspedals.get('pedals')\n",
    "pedalprice=adamspedals.get('pedal price')"
   ]
  },
  {
   "cell_type": "code",
   "execution_count": 6,
   "id": "79e18855",
   "metadata": {},
   "outputs": [
    {
     "name": "stdout",
     "output_type": "stream",
     "text": [
      "how much gain is ur pedal ?apollo\n",
      "gain low~mid\n"
     ]
    }
   ],
   "source": [
    "ask = input('how much gain is ur pedal ?')\n",
    "for a in pedals :\n",
    "    if ask == a.get('name'):\n",
    "        print('gain',a.get('gain'))"
   ]
  },
  {
   "cell_type": "code",
   "execution_count": 7,
   "id": "526587bd",
   "metadata": {},
   "outputs": [
    {
     "name": "stdout",
     "output_type": "stream",
     "text": [
      "whats is ur pedals factory ?apollo\n",
      "factory ravenstone\n"
     ]
    }
   ],
   "source": [
    "ask = input('whats is ur pedals factory ?')\n",
    "for b in pedals:\n",
    "    if ask == b.get('name'):\n",
    "        print('factory',b.get('factory'))"
   ]
  },
  {
   "cell_type": "code",
   "execution_count": 8,
   "id": "448f6dfd",
   "metadata": {},
   "outputs": [
    {
     "name": "stdout",
     "output_type": "stream",
     "text": [
      "whats is ur pedals factory ?apollo\n",
      "factory 6800\n"
     ]
    }
   ],
   "source": [
    "ask = input('whats is ur pedals factory ?')\n",
    "for b in pedalprice:\n",
    "    if ask == b.get('name'):\n",
    "        print('factory',b.get('price'))"
   ]
  },
  {
   "cell_type": "code",
   "execution_count": 15,
   "id": "899c2c80",
   "metadata": {},
   "outputs": [
    {
     "data": {
      "text/plain": [
       "['6800', '6800', '12000', '15000', '100000']"
      ]
     },
     "execution_count": 15,
     "metadata": {},
     "output_type": "execute_result"
    }
   ],
   "source": [
    "allprice=[]\n",
    "for c in pedalprice:\n",
    "    allprice.append(c.get('price'))\n",
    "allprice"
   ]
  },
  {
   "cell_type": "code",
   "execution_count": 54,
   "id": "dba577d9",
   "metadata": {},
   "outputs": [],
   "source": [
    "allprice_enumerate = enumerate(allprice, start=0)"
   ]
  },
  {
   "cell_type": "code",
   "execution_count": 55,
   "id": "632ec64d",
   "metadata": {},
   "outputs": [
    {
     "data": {
      "text/plain": [
       "[(4, '100000'), (3, '15000'), (2, '12000'), (1, '6800'), (0, '6800')]"
      ]
     },
     "execution_count": 55,
     "metadata": {},
     "output_type": "execute_result"
    }
   ],
   "source": [
    "allprice_enumerate_sorted = sorted(allprice_enumerate, key=lambda s : s[0], reverse = True)\n",
    "allprice_enumerate_sorted"
   ]
  },
  {
   "cell_type": "code",
   "execution_count": 56,
   "id": "95e16b7c",
   "metadata": {},
   "outputs": [
    {
     "data": {
      "text/plain": [
       "'15000'"
      ]
     },
     "execution_count": 56,
     "metadata": {},
     "output_type": "execute_result"
    }
   ],
   "source": [
    "allprice_enumerate_sorted[1][1]"
   ]
  },
  {
   "cell_type": "code",
   "execution_count": 60,
   "id": "ac3d93e6",
   "metadata": {},
   "outputs": [
    {
     "name": "stdout",
     "output_type": "stream",
     "text": [
      "revival drive 是 15000 塊\n",
      "jan ray 是 12000 塊\n",
      "moonset 是 6800 塊\n",
      "apollo 是 6800 塊\n",
      "klon centaur 是 100000 塊\n"
     ]
    }
   ],
   "source": [
    "for a in allprice_enumerate_sorted:\n",
    "    b = a[0] - 1\n",
    "    print(pedals[b].get('name'), '是', pedalprice[b].get('price'), '塊')"
   ]
  },
  {
   "cell_type": "code",
   "execution_count": null,
   "id": "4aec4728",
   "metadata": {},
   "outputs": [],
   "source": []
  }
 ],
 "metadata": {
  "kernelspec": {
   "display_name": "Python 3 (ipykernel)",
   "language": "python",
   "name": "python3"
  },
  "language_info": {
   "codemirror_mode": {
    "name": "ipython",
    "version": 3
   },
   "file_extension": ".py",
   "mimetype": "text/x-python",
   "name": "python",
   "nbconvert_exporter": "python",
   "pygments_lexer": "ipython3",
   "version": "3.9.12"
  }
 },
 "nbformat": 4,
 "nbformat_minor": 5
}
